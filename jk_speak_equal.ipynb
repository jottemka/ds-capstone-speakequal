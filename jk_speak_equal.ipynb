{
 "cells": [
  {
   "cell_type": "markdown",
   "metadata": {},
   "source": [
    "# Clustering Wave File"
   ]
  },
  {
   "cell_type": "code",
   "execution_count": null,
   "metadata": {},
   "outputs": [],
   "source": [
    "import librosa\n",
    "import librosa.display\n",
    "import matplotlib.pyplot as plt\n",
    "import numpy as np\n",
    "import pandas as pd\n",
    "import seaborn as sns\n",
    "\n",
    "# Load audiofile\n",
    "y, sr = librosa.load(\"data/test.wav\")\n",
    "seconds = len(y)/22050\n",
    "\n",
    "# Short-Time Fourier Transform (STFT)\n",
    "S = librosa.stft(y)\n",
    "seconds = len(y)/22050\n",
    "# Convert amplitudes in decibel\n",
    "S_dB = librosa.amplitude_to_db(np.abs(S), ref=np.max)\n",
    "\n",
    "# Plotting\n",
    "plt.figure(figsize=(10, 6))\n",
    "librosa.display.specshow(S_dB, sr=sr, x_axis='time', y_axis='hz')\n",
    "plt.colorbar(format='%+2.0f dB')\n",
    "plt.xlabel('Time [s]')\n",
    "plt.ylabel('Frequency [Hz]')\n",
    "plt.show()"
   ]
  },
  {
   "cell_type": "markdown",
   "metadata": {},
   "source": [
    "# Failed: Clustering Based on Engineered Features"
   ]
  },
  {
   "cell_type": "code",
   "execution_count": null,
   "metadata": {},
   "outputs": [],
   "source": [
    "import librosa\n",
    "import numpy as np\n",
    "import pandas as pd\n",
    "from sklearn.cluster import AgglomerativeClustering, KMeans, MiniBatchKMeans, Birch\n",
    "\n",
    "# Load the audio file\n",
    "y, sr = librosa.load('data/test.wav')\n",
    "\n",
    "# Calculate the Short-Time Fourier Transform (STFT)\n",
    "D = librosa.stft(y)\n",
    "\n",
    "# Convert the spectrogram to the Mel scale\n",
    "S = librosa.feature.melspectrogram(S=D, sr=sr)\n",
    "\n",
    "# Extract Spectral Features\n",
    "spectral_centroid = librosa.feature.spectral_centroid(y=y, sr=sr)\n",
    "spectral_bandwidth = librosa.feature.spectral_bandwidth(y=y, sr=sr)\n",
    "spectral_contrast = librosa.feature.spectral_contrast(S=D, sr=sr)\n",
    "spectral_rolloff = librosa.feature.spectral_rolloff(y=y, sr=sr)\n",
    "zero_crossing_rate = librosa.feature.zero_crossing_rate(y=y)\n",
    "mfccs = librosa.feature.mfcc(S=librosa.power_to_db(np.abs(S)), sr=sr, n_mfcc=13)\n",
    "\n",
    "# Transpose features so that each row corresponds to a time frame\n",
    "spectral_centroid = spectral_centroid.T\n",
    "spectral_bandwidth = spectral_bandwidth.T\n",
    "spectral_contrast = spectral_contrast.T\n",
    "spectral_rolloff = spectral_rolloff.T\n",
    "zero_crossing_rate = zero_crossing_rate.T\n",
    "mfccs = mfccs.T\n",
    "\n",
    "# Create a DataFrame with all the features\n",
    "# We will use `pd.concat` to combine the features along the second axis (columns)\n",
    "df = pd.concat([\n",
    "    pd.DataFrame(spectral_centroid, columns=['spectral_centroid']),\n",
    "    pd.DataFrame(spectral_bandwidth, columns=['spectral_bandwidth']),\n",
    "    pd.DataFrame(spectral_contrast, columns=[f'spectral_contrast_{i}' for i in range(spectral_contrast.shape[1])]),\n",
    "    pd.DataFrame(spectral_rolloff, columns=['spectral_rolloff']),\n",
    "    pd.DataFrame(zero_crossing_rate, columns=['zero_crossing_rate']),\n",
    "    pd.DataFrame(mfccs, columns=[f'mfcc_{i+1}' for i in range(mfccs.shape[1])])\n",
    "], axis=1)\n",
    "\n",
    "# Display the DataFrame\n",
    "#display(df)\n",
    "\n",
    "# Clustering\n",
    "clustering = KMeans(n_clusters=3).fit_predict(df)\n",
    "\n",
    "# Plotting the results\n",
    "plt.plot(clustering, '.')"
   ]
  },
  {
   "cell_type": "markdown",
   "metadata": {},
   "source": [
    "# Trying Out X-Vectors"
   ]
  },
  {
   "cell_type": "code",
   "execution_count": 7,
   "metadata": {},
   "outputs": [
    {
     "name": "stderr",
     "output_type": "stream",
     "text": [
      "/home/jakob/neuefische/ds-capstone-speakequal/.venv/lib/python3.11/site-packages/speechbrain/utils/checkpoints.py:152: FutureWarning: You are using `torch.load` with `weights_only=False` (the current default value), which uses the default pickle module implicitly. It is possible to construct malicious pickle data which will execute arbitrary code during unpickling (See https://github.com/pytorch/pytorch/blob/main/SECURITY.md#untrusted-models for more details). In a future release, the default value for `weights_only` will be flipped to `True`. This limits the functions that could be executed during unpickling. Arbitrary objects will no longer be allowed to be loaded via this mode unless they are explicitly allowlisted by the user via `torch.serialization.add_safe_globals`. We recommend you start setting `weights_only=True` for any use case where you don't have full control of the loaded file. Please open an issue on GitHub for any issues related to this experimental feature.\n",
      "  torch.load(path, map_location=device), strict=False\n",
      "/home/jakob/neuefische/ds-capstone-speakequal/.venv/lib/python3.11/site-packages/speechbrain/processing/features.py:1228: FutureWarning: You are using `torch.load` with `weights_only=False` (the current default value), which uses the default pickle module implicitly. It is possible to construct malicious pickle data which will execute arbitrary code during unpickling (See https://github.com/pytorch/pytorch/blob/main/SECURITY.md#untrusted-models for more details). In a future release, the default value for `weights_only` will be flipped to `True`. This limits the functions that could be executed during unpickling. Arbitrary objects will no longer be allowed to be loaded via this mode unless they are explicitly allowlisted by the user via `torch.serialization.add_safe_globals`. We recommend you start setting `weights_only=True` for any use case where you don't have full control of the loaded file. Please open an issue on GitHub for any issues related to this experimental feature.\n",
      "  stats = torch.load(path, map_location=device)\n",
      "/home/jakob/neuefische/ds-capstone-speakequal/.venv/lib/python3.11/site-packages/pyannote/metrics/utils.py:200: UserWarning: 'uem' was approximated by the union of 'reference' and 'hypothesis' extents.\n",
      "  warnings.warn(\n"
     ]
    },
    {
     "data": {
      "text/plain": [
       "{'false alarm': 4.903105000000003,\n",
       " 'correct': 18.683595,\n",
       " 'total': 22.334294999999997,\n",
       " 'missed detection': 0.23740000000000094,\n",
       " 'confusion': 3.413299999999998}"
      ]
     },
     "execution_count": 7,
     "metadata": {},
     "output_type": "execute_result"
    },
    {
     "data": {
      "image/png": "[encoded data removed]",
      "text/plain": [
       "<Figure size 640x480 with 1 Axes>"
      ]
     },
     "metadata": {},
     "output_type": "display_data"
    }
   ],
   "source": [
    "import torch\n",
    "import torchaudio\n",
    "import numpy as np\n",
    "import pandas as pd\n",
    "import matplotlib.pyplot as plt\n",
    "from speechbrain.inference import SpeakerRecognition\n",
    "from sklearn.cluster import AgglomerativeClustering, KMeans, MiniBatchKMeans, Birch, DBSCAN, SpectralCoclustering\n",
    "from pyannote.core import Segment, Annotation, notebook\n",
    "from pyannote.metrics.diarization import DiarizationErrorRate\n",
    "\n",
    "\n",
    "\n",
    "# Load pre-trained x-vector model\n",
    "xvector_model = SpeakerRecognition.from_hparams(\n",
    "    source=\"speechbrain/spkrec-xvect-voxceleb\",\n",
    "    savedir=\"pretrained_models/spkrec-xvect-voxceleb\"\n",
    ")\n",
    "\n",
    "# Load audio file (fs is sampling rate)\n",
    "signal, fs = torchaudio.load(\"data/test.wav\")\n",
    "\n",
    "# Ensure the audio is mono and 16kHz\n",
    "if signal.shape[0] > 1:\n",
    "    signal = torch.mean(signal, dim=0, keepdim=True)\n",
    "\n",
    "if fs != 16000:\n",
    "    signal = torchaudio.transforms.Resample(fs, 16000)(signal)\n",
    "\n",
    "# Define segment length and step\n",
    "segment_length = .5  # adjust to preference\n",
    "step = .5  # adjust to preference\n",
    "segment_length_samples = int(segment_length * 16000)\n",
    "step_samples = int(step * 16000)\n",
    "\n",
    "# Extract x-vectors for each segment\n",
    "xvectors = []\n",
    "segments = []\n",
    "for start in range(0, signal.shape[1] - segment_length_samples, step_samples):\n",
    "    segment = signal[:, start:start + segment_length_samples]\n",
    "    xvector = xvector_model.encode_batch(segment)\n",
    "    xvectors.append(xvector.squeeze().detach().numpy())\n",
    "    segments.append(Segment(start / 16000, (start + segment_length_samples) / 16000))\n",
    "\n",
    "xvectors = np.array(xvectors)\n",
    "\n",
    "# Perform agglomerative clustering\n",
    "num_speakers = 3  # Change this number based on expected number of speakers\n",
    "labels = AgglomerativeClustering(n_clusters=num_speakers).fit_predict(xvectors)\n",
    "#labels = DBSCAN(eps=.19, min_samples=10, metric=\"cosine\", n_jobs=-1).fit_predict(xvectors)\n",
    "\n",
    "# Create a pyannote annotation for visualization and output\n",
    "annotation = Annotation()\n",
    "for i, label in enumerate(labels):\n",
    "    annotation[segments[i]] = f\"Speaker {label + 1}\"\n",
    "\n",
    "# Display the diarization result\n",
    "notebook.plot_annotation(annotation, time=True, legend=True)\n",
    "\n",
    "# #Convert to Pandas DataFrame for easier handling\n",
    "# df = pd.DataFrame({\n",
    "#     \"start\": [segment.start for segment in segments],\n",
    "#     \"end\": [segment.end for segment in segments],\n",
    "#     \"speaker\": [f\"Speaker {label + 1}\" for label in labels]\n",
    "# })\n",
    "\n",
    "ref_annotation = Annotation()\n",
    "benchmark = pd.read_csv(\"data/test_labels_noise.csv\", header=None)\n",
    "for index, row in benchmark.iterrows():\n",
    "    ref_annotation[Segment(row[0], row[1])] = row[2]\n",
    "\n",
    "# Instantiate diarization\n",
    "err = DiarizationErrorRate()\n",
    "err.compute_components(ref_annotation,annotation)\n"
   ]
  },
  {
   "cell_type": "code",
   "execution_count": 8,
   "metadata": {},
   "outputs": [
    {
     "data": {
      "text/plain": [
       "[<matplotlib.lines.Line2D at 0x7f95d74f7b90>]"
      ]
     },
     "execution_count": 8,
     "metadata": {},
     "output_type": "execute_result"
    },
    {
     "data": {
      "image/png": "[encoded data removed]",
      "text/plain": [
       "<Figure size 640x480 with 1 Axes>"
      ]
     },
     "metadata": {},
     "output_type": "display_data"
    }
   ],
   "source": [
    "import librosa\n",
    "import matplotlib.pyplot as plt\n",
    "import numpy as np\n",
    "\n",
    "# Load audiofile (sr is sample rate)\n",
    "y, sr = librosa.load(\"data/test.wav\")\n",
    "x_axis = np.array(range(len(y)))/sr\n",
    "\n",
    "# Short-Time Fourier Transform (STFT)\n",
    "S = librosa.stft(y)\n",
    "\n",
    "# Convert amplitudes in decibel\n",
    "S_dB = librosa.amplitude_to_db(np.abs(S), ref=np.max)\n",
    "\n",
    "# Plotting\n",
    "plt.plot(x_axis,y)"
   ]
  }
 ],
 "metadata": {
  "kernelspec": {
   "display_name": ".venv",
   "language": "python",
   "name": "python3"
  },
  "language_info": {
   "codemirror_mode": {
    "name": "ipython",
    "version": 3
   },
   "file_extension": ".py",
   "mimetype": "text/x-python",
   "name": "python",
   "nbconvert_exporter": "python",
   "pygments_lexer": "ipython3",
   "version": "3.11.3"
  }
 },
 "nbformat": 4,
 "nbformat_minor": 2
}
